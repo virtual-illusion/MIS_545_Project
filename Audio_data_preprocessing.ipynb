{
  "cells": [
    {
      "cell_type": "code",
      "execution_count": null,
      "id": "cceb7054-0b2d-4ee6-8e65-5cb8d939660c",
      "metadata": {
        "id": "cceb7054-0b2d-4ee6-8e65-5cb8d939660c"
      },
      "outputs": [],
      "source": [
        "import os\n",
        "import numpy as np\n",
        "import pandas as pd\n",
        "import librosa\n",
        "import tensorflow as tf\n",
        "from sklearn.model_selection import train_test_split\n",
        "from sklearn.preprocessing import LabelEncoder, StandardScaler\n",
        "import random"
      ]
    },
    {
      "cell_type": "code",
      "execution_count": null,
      "id": "86b6bb3d-2f4d-4649-b58f-7d8b9527ef62",
      "metadata": {
        "id": "86b6bb3d-2f4d-4649-b58f-7d8b9527ef62"
      },
      "outputs": [],
      "source": [
        "real_audio_path = r\"/content/drive/MyDrive/MIS 545/REAL\"\n",
        "fake_audio_path = r\"/content/drive/MyDrive/MIS 545/FAKE\"\n",
        "sample_rate = 22050\n",
        "segment_duration = 3\n",
        "overlap = 1\n",
        "\n",
        "def augment_audio_add_noise(audio, noise_factor=0.005):\n",
        "    noise = np.random.randn(len(audio))\n",
        "    augmented_audio = audio + noise_factor * noise\n",
        "    return augmented_audio\n",
        "\n",
        "def load_audio_files(folder_path, label, sr=sample_rate, augment=False):\n",
        "    data = []\n",
        "    for filename in os.listdir(folder_path):\n",
        "        file_path = os.path.join(folder_path, filename)\n",
        "        if filename.endswith('.wav'):\n",
        "            audio, _ = librosa.load(file_path, sr=sr)\n",
        "\n",
        "            if augment and random.random() < 0.5:\n",
        "                audio = augment_audio_add_noise(audio, noise_factor=0.005)\n",
        "\n",
        "            data.extend(segment_and_extract_features(audio, label, sr))\n",
        "    return data\n",
        "\n",
        "def segment_and_extract_features(audio, label, sr):\n",
        "\n",
        "    features = []\n",
        "    segment_samples = int(segment_duration * sr)\n",
        "    overlap_samples = int(overlap * sr)\n",
        "    num_segments = (len(audio) - segment_samples) // (segment_samples - overlap_samples) + 1\n",
        "\n",
        "    for i in range(num_segments):\n",
        "        start = i * (segment_samples - overlap_samples)\n",
        "        end = start + segment_samples\n",
        "        segment = audio[start:end]\n",
        "\n",
        "        mfccs = librosa.feature.mfcc(y=segment, sr=sr, n_mfcc=13)\n",
        "        chroma = librosa.feature.chroma_stft(y=segment, sr=sr)\n",
        "        spectral_centroid = librosa.feature.spectral_centroid(y=segment, sr=sr)\n",
        "        spectral_bandwidth = librosa.feature.spectral_bandwidth(y=segment, sr=sr)\n",
        "        rolloff = librosa.feature.spectral_rolloff(y=segment, sr=sr)\n",
        "        zero_crossing_rate = librosa.feature.zero_crossing_rate(y=segment)\n",
        "\n",
        "        feature_dict = {\n",
        "            'mfcc_mean': np.mean(mfccs, axis=1),\n",
        "            'mfcc_std': np.std(mfccs, axis=1),\n",
        "            'chroma': np.mean(chroma, axis=1),\n",
        "            'spectral_centroid': np.mean(spectral_centroid),\n",
        "            'spectral_bandwidth': np.mean(spectral_bandwidth),\n",
        "            'rolloff': np.mean(rolloff),\n",
        "            'zero_crossing_rate': np.mean(zero_crossing_rate),\n",
        "            'label': label\n",
        "        }\n",
        "        features.append(feature_dict)\n",
        "    return features"
      ]
    },
    {
      "cell_type": "code",
      "source": [
        "from google.colab import drive\n",
        "drive.mount('/content/drive')"
      ],
      "metadata": {
        "colab": {
          "base_uri": "https://localhost:8080/"
        },
        "id": "Ou7S09nvJfX3",
        "outputId": "e0c3689a-9b2f-43b2-d784-35d03fb4e207"
      },
      "id": "Ou7S09nvJfX3",
      "execution_count": null,
      "outputs": [
        {
          "output_type": "stream",
          "name": "stdout",
          "text": [
            "Mounted at /content/drive\n"
          ]
        }
      ]
    },
    {
      "cell_type": "code",
      "execution_count": null,
      "id": "09e799a3-259a-41d4-89e7-8416cb2c9917",
      "metadata": {
        "id": "09e799a3-259a-41d4-89e7-8416cb2c9917"
      },
      "outputs": [],
      "source": [
        "real_data = load_audio_files(real_audio_path, label='Real', augment=False)\n",
        "fake_data = load_audio_files(fake_audio_path, label='Fake', augment=True)\n",
        "all_data = real_data + fake_data\n",
        "\n",
        "df = pd.DataFrame(all_data)\n",
        "\n",
        "X = pd.concat([\n",
        "    pd.DataFrame(df['mfcc_mean'].tolist()),\n",
        "    pd.DataFrame(df['mfcc_std'].tolist()),\n",
        "    pd.DataFrame(df['chroma'].tolist()),\n",
        "    df[['spectral_centroid', 'spectral_bandwidth', 'rolloff', 'zero_crossing_rate']]\n",
        "], axis=1)\n",
        "y = df['label']\n",
        "\n",
        "# Save the DataFrame as a CSV file\n",
        "df.to_csv('audio_features_data.csv', index=False)\n",
        "\n",
        "label_encoder = LabelEncoder()\n",
        "y = label_encoder.fit_transform(y)\n",
        "y = to_categorical(y)\n",
        "\n",
        "# Ensure all column names are strings\n",
        "X.columns = X.columns.astype(str)\n",
        "\n",
        "X_train, X_test, y_train, y_test = train_test_split(X, y, test_size=0.2, random_state=42)\n",
        "scaler = StandardScaler()\n",
        "X_train = scaler.fit_transform(X_train)\n",
        "X_test = scaler.transform(X_test)\n",
        "\n",
        "X_train = X_train.reshape(X_train.shape[0], X_train.shape[1], 1)\n",
        "X_test = X_test.reshape(X_test.shape[0], X_test.shape[1], 1)"
      ]
    },
    {
      "cell_type": "code",
      "execution_count": null,
      "id": "a43af745-0142-49d1-a0ec-ec27cff0c9ae",
      "metadata": {
        "id": "a43af745-0142-49d1-a0ec-ec27cff0c9ae"
      },
      "outputs": [],
      "source": []
    }
  ],
  "metadata": {
    "kernelspec": {
      "display_name": "Python 3 (ipykernel)",
      "language": "python",
      "name": "python3"
    },
    "language_info": {
      "codemirror_mode": {
        "name": "ipython",
        "version": 3
      },
      "file_extension": ".py",
      "mimetype": "text/x-python",
      "name": "python",
      "nbconvert_exporter": "python",
      "pygments_lexer": "ipython3",
      "version": "3.12.7"
    },
    "colab": {
      "provenance": []
    }
  },
  "nbformat": 4,
  "nbformat_minor": 5
}